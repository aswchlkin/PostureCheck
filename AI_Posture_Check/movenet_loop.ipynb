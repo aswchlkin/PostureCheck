{
 "cells": [
  {
   "cell_type": "code",
   "execution_count": 1,
   "metadata": {},
   "outputs": [],
   "source": [
    "import tensorflow as tf\n",
    "import tensorflow_hub as hub\n",
    "import time\n",
    "import math\n",
    "\n",
    "# Download the model from TF Hub.\n",
    "model = hub.load(\"https://tfhub.dev/google/movenet/singlepose/lightning/4\")\n",
    "movenet = model.signatures['serving_default']"
   ]
  },
  {
   "cell_type": "code",
   "execution_count": null,
   "metadata": {
    "scrolled": true
   },
   "outputs": [
    {
     "name": "stdout",
     "output_type": "stream",
     "text": [
      "\u001b[1;31;43m BAD  POSTURE\r"
     ]
    }
   ],
   "source": [
    "while True :\n",
    "    # Load the input image.\n",
    "    image_path = 'C:/Users/admin/AI_Posture_Check/picture.jpg'\n",
    "    image = tf.io.read_file(image_path)\n",
    "    image = tf.compat.v1.image.decode_jpeg(image)\n",
    "    image = tf.expand_dims(image, axis=0)\n",
    "\n",
    "    # Resize and pad the image to keep the aspect ratio and fit the expected size.\n",
    "    image = tf.cast(tf.image.resize_with_pad(image, 192, 192), dtype=tf.int32)\n",
    "\n",
    "    # Run model inference.\n",
    "    outputs = movenet(image)\n",
    "    # Output is a [1, 1, 17, 3] tensor.\n",
    "    keypoints = outputs['output_0']\n",
    "\n",
    "    # To extract the data from the array\n",
    "    nose_x = keypoints.numpy()[0,0,0,1]\n",
    "    nose_y = 1 - keypoints.numpy()[0,0,0,0]\n",
    "    left_eye_x = keypoints.numpy()[0,0,1,1]\n",
    "    left_eye_y = 1 - keypoints.numpy()[0,0,1,0]\n",
    "    right_eye_x = keypoints.numpy()[0,0,2,1]\n",
    "    right_eye_y = 1 - keypoints.numpy()[0,0,2,0]\n",
    "    left_ear_x = keypoints.numpy()[0,0,3,1]\n",
    "    left_ear_y = 1 - keypoints.numpy()[0,0,3,0]\n",
    "    right_ear_x = keypoints.numpy()[0,0,4,1]\n",
    "    right_ear_y = 1 - keypoints.numpy()[0,0,4,0]\n",
    "    left_shoulder_x = keypoints.numpy()[0,0,5,1]\n",
    "    left_shoulder_y = 1 - keypoints.numpy()[0,0,5,0]\n",
    "    right_shoulder_x = keypoints.numpy()[0,0,6,1]\n",
    "    right_shoulder_y = 1 - keypoints.numpy()[0,0,6,0]\n",
    "    left_elbow_x = keypoints.numpy()[0,0,7,1]\n",
    "    left_elbow_y = 1 - keypoints.numpy()[0,0,7,0]\n",
    "    right_elbow_x = keypoints.numpy()[0,0,8,1]\n",
    "    right_elbow_y = 1 - keypoints.numpy()[0,0,8,0]\n",
    "    left_wrist_x = keypoints.numpy()[0,0,9,1]\n",
    "    left_wrist_y = 1 - keypoints.numpy()[0,0,9,0]\n",
    "    right_wrist_x = keypoints.numpy()[0,0,10,1]\n",
    "    right_wrist_y = 1 - keypoints.numpy()[0,0,10,0]\n",
    "    left_hip_x = keypoints.numpy()[0,0,11,1]\n",
    "    left_hip_y = 1 - keypoints.numpy()[0,0,11,0]\n",
    "    right_hip_x = keypoints.numpy()[0,0,12,1]\n",
    "    right_hip_y = 1 - keypoints.numpy()[0,0,12,0]\n",
    "    left_knee_x = keypoints.numpy()[0,0,13,1]\n",
    "    left_knee_y = 1 - keypoints.numpy()[0,0,13,0]\n",
    "    right_knee_x = keypoints.numpy()[0,0,14,1]\n",
    "    right_knee_y = 1 - keypoints.numpy()[0,0,14,0]\n",
    "    left_ankle_x = keypoints.numpy()[0,0,15,1]\n",
    "    left_ankle_y = 1 - keypoints.numpy()[0,0,15,0]\n",
    "    right_ankle_x = keypoints.numpy()[0,0,16,1]\n",
    "    right_ankle_y = 1 - keypoints.numpy()[0,0,16,0]\n",
    "    \n",
    "    if abs(math.degrees(math.atan((left_shoulder_y-left_hip_y)/(left_shoulder_x-left_hip_x)))) > 85 :        \n",
    "        print(\"\\033[0;30;47m GOOD POSTURE\",end=\"\\r\")\n",
    "    else :\n",
    "        print(\"\\033[1;31;43m BAD  POSTURE\",end=\"\\r\")\n",
    "\n",
    "    # wait for 1 second until scanning again.\n",
    "    time.sleep(1)"
   ]
  },
  {
   "cell_type": "code",
   "execution_count": null,
   "metadata": {},
   "outputs": [],
   "source": []
  },
  {
   "cell_type": "code",
   "execution_count": null,
   "metadata": {},
   "outputs": [],
   "source": []
  }
 ],
 "metadata": {
  "kernelspec": {
   "display_name": "Python 3",
   "language": "python",
   "name": "python3"
  },
  "language_info": {
   "codemirror_mode": {
    "name": "ipython",
    "version": 3
   },
   "file_extension": ".py",
   "mimetype": "text/x-python",
   "name": "python",
   "nbconvert_exporter": "python",
   "pygments_lexer": "ipython3",
   "version": "3.8.5"
  }
 },
 "nbformat": 4,
 "nbformat_minor": 4
}
